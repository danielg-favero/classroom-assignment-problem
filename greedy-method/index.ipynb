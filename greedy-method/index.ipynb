{
 "cells": [
  {
   "cell_type": "markdown",
   "metadata": {},
   "source": [
    "# Solução gulosa para o problema de alocação de turmas em salas de aula"
   ]
  },
  {
   "cell_type": "markdown",
   "metadata": {},
   "source": [
    "## Algoritmo genérico para solução do problema\n",
    "\n",
    "```\n",
    "classroom_assign(C = {(Si, Fi) | 0 <= i <= n}):\n",
    "    ordernar as turmas C em ordem crescente de tempo de início (Si)\n",
    "    começar com d = 0 salas de aula disponíveis\n",
    "\n",
    "    para cada turma ci em C:\n",
    "        se: ci é compatível com uma das d salas abertas, adicione ci a essa sala\n",
    "        senão: abra a sala d + 1 e adicione ci a essa nova sala\n",
    "```\n",
    "\n",
    "Por facilidade na resolução, será considerado apenas a alocação de salas em um dia da semana"
   ]
  },
  {
   "cell_type": "code",
   "execution_count": 170,
   "metadata": {},
   "outputs": [],
   "source": [
    "def file_reader(path: str):\n",
    "    with open(path, \"r\") as file:\n",
    "        fileLines = file.readlines() \n",
    "        return fileLines"
   ]
  },
  {
   "cell_type": "code",
   "execution_count": 171,
   "metadata": {},
   "outputs": [],
   "source": [
    "import re\n",
    "\n",
    "def parse_rooms_data(roomsFile: list[str]):\n",
    "    parsed_rooms = []\n",
    "\n",
    "    for data in roomsFile:\n",
    "        parsed_rooms.append(int(data.split('\\t')[1].replace('\\n', '')))\n",
    "\n",
    "    return parsed_rooms\n",
    "\n",
    "def parse_schedules_data(scheduleFile: list[str], weekDay: int):\n",
    "    all_subjects_per_week_day = []\n",
    "    parsed_schedules = []\n",
    "\n",
    "    for i in range(0, len(scheduleFile) - 1):\n",
    "        subjects_schedules = scheduleFile[i].split('\\t')\n",
    "\n",
    "        if re.match(\"{:1d}\".format(weekDay), subjects_schedules[2]):\n",
    "            all_subjects_per_week_day.append([\n",
    "                subjects_schedules[0], \n",
    "                int(subjects_schedules[2].replace('\\n', '')) % 100\n",
    "            ])\n",
    "\n",
    "    current_subject = all_subjects_per_week_day[0][0]\n",
    "    current_subject_schedule_depth = 0\n",
    "\n",
    "    for i in range(0, len(all_subjects_per_week_day) - 1):\n",
    "        if current_subject == all_subjects_per_week_day[i + 1][0]:\n",
    "            current_subject_schedule_depth += 1\n",
    "        else:\n",
    "            parsed_schedules.append([all_subjects_per_week_day[i][0], all_subjects_per_week_day[i][1] - current_subject_schedule_depth, current_subject_schedule_depth])\n",
    "            current_subject_schedule_depth = 0\n",
    "\n",
    "        i += 1\n",
    "        current_subject = all_subjects_per_week_day[i][0]\n",
    "\n",
    "    return parsed_schedules"
   ]
  },
  {
   "cell_type": "code",
   "execution_count": 176,
   "metadata": {},
   "outputs": [],
   "source": [
    "def classroom_assign(classes: list, agenda: list[list], total_classrooms: int):\n",
    "    # ordernar as turmas C em ordem crescente de tempo de início (Si)\n",
    "    classes.sort(key = lambda i: i[1])          \n",
    "\n",
    "    for i in range(0, len(classes)):\n",
    "        d = 0\n",
    "        j = i\n",
    "        while (j < len(classes)) and (d < total_classrooms):\n",
    "            start = classes[j][1]\n",
    "            finish = classes[j][1] + classes[j][2]\n",
    "            \n",
    "            # se: ci é compatível com uma das d salas abertas, adicione ci a essa sala\n",
    "            if (agenda[start][d] == 0) and (agenda[finish][d] == 0):\n",
    "                for k in range(start, finish + 1):\n",
    "                    agenda[k][d] = classes[j][0]\n",
    "                \n",
    "                j += 1\n",
    "            # senão: abra a sala d + 1 e adicione ci a essa nova sala\n",
    "            else:\n",
    "                # a sala d + 1 está disponível?\n",
    "                if (d + 1) < total_classrooms:\n",
    "                    d += 1\n",
    "                # voltar a verificar na primeira sala\n",
    "                else:\n",
    "                    d = 0\n",
    "                    j += 1\n",
    "\n",
    "def print_agenda(agenda: list[list]):\n",
    "    for lines in agenda:\n",
    "        print(lines)"
   ]
  },
  {
   "cell_type": "code",
   "execution_count": 179,
   "metadata": {},
   "outputs": [],
   "source": [
    "roomsFile = file_reader(\"../data/rooms.txt\")\n",
    "schedulesFile = file_reader(\"../data/schedules.txt\")\n",
    "\n",
    "rooms = parse_rooms_data(roomsFile)                                         # Salas disponíveis\n",
    "schedules = parse_schedules_data(schedulesFile, 3)                          # Código e horário das disciplinas\n",
    "\n",
    "total_hours = 14\n",
    "agenda = [[0] * len(rooms) for i in range(total_hours)]\n",
    "\n",
    "classroom_assign(schedules, agenda, len(rooms))"
   ]
  }
 ],
 "metadata": {
  "kernelspec": {
   "display_name": "Python 3.10.6 64-bit",
   "language": "python",
   "name": "python3"
  },
  "language_info": {
   "codemirror_mode": {
    "name": "ipython",
    "version": 3
   },
   "file_extension": ".py",
   "mimetype": "text/x-python",
   "name": "python",
   "nbconvert_exporter": "python",
   "pygments_lexer": "ipython3",
   "version": "3.10.6"
  },
  "orig_nbformat": 4,
  "vscode": {
   "interpreter": {
    "hash": "26de051ba29f2982a8de78e945f0abaf191376122a1563185a90213a26c5da77"
   }
  }
 },
 "nbformat": 4,
 "nbformat_minor": 2
}
